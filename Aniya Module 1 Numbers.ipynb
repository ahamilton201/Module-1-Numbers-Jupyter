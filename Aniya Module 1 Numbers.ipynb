{
 "cells": [
  {
   "cell_type": "code",
   "execution_count": 2,
   "id": "79197219-f41b-470e-af93-8a5afb17c5c7",
   "metadata": {},
   "outputs": [
    {
     "data": {
      "text/plain": [
       "3600"
      ]
     },
     "execution_count": 2,
     "metadata": {},
     "output_type": "execute_result"
    }
   ],
   "source": [
    "# calculating the number of seconds in an hour\n",
    "seconds_in_minute = 60\n",
    "minutes_in_hour = 60\n",
    "\n",
    "seconds_in_hour = seconds_in_minute * minutes_in_hour\n",
    "seconds_in_hour"
   ]
  },
  {
   "cell_type": "markdown",
   "id": "ce75eeb2-fa78-4bc4-969f-3baa76c93a5a",
   "metadata": {},
   "source": [
    "### 3.1 How many seconds are there in a hour? \n",
    "There are 60 seconds in a minute and 60 minutes in an hour. When you multiply 60 * 60, we see that there are 3600 seconds in an hour."
   ]
  },
  {
   "cell_type": "code",
   "execution_count": 3,
   "id": "454d0702-4922-42e0-adbd-4c8c7bffd9e0",
   "metadata": {},
   "outputs": [
    {
     "data": {
      "text/plain": [
       "3600"
      ]
     },
     "execution_count": 3,
     "metadata": {},
     "output_type": "execute_result"
    }
   ],
   "source": [
    "# assigning seconds_in_hour to a new variable seconds_per_hour\n",
    "seconds_per_hour = seconds_in_hour\n",
    "seconds_per_hour"
   ]
  },
  {
   "cell_type": "markdown",
   "id": "20f48d17-dd64-438e-949e-874decb7f40a",
   "metadata": {},
   "source": [
    "### 3.2 Assign the result to a variable 'seconds_per_hour'.\n",
    "We got the same result as from the previous calculation, 3600, for the new variable seconds_per_hour."
   ]
  },
  {
   "cell_type": "code",
   "execution_count": 4,
   "id": "7d514596-610f-4797-a6a9-d7ad8ea7217b",
   "metadata": {},
   "outputs": [
    {
     "data": {
      "text/plain": [
       "86400"
      ]
     },
     "execution_count": 4,
     "metadata": {},
     "output_type": "execute_result"
    }
   ],
   "source": [
    "# calculating the number of seconds in a day\n",
    "hours_in_day = 24\n",
    "seconds_per_day = seconds_per_hour * hours_in_day\n",
    "seconds_per_day"
   ]
  },
  {
   "cell_type": "markdown",
   "id": "a1f6abad-66db-440e-985b-349fb5c50dcb",
   "metadata": {},
   "source": [
    "### 3.3 How many seconds are in a day?\n",
    "By using the new second_per_hour variable and multiplying it by 24, the amount of hours in a day, I got the result of 86400."
   ]
  },
  {
   "cell_type": "code",
   "execution_count": 5,
   "id": "3b8b17d5-d6c9-4eb6-9d42-845e335f93c1",
   "metadata": {},
   "outputs": [
    {
     "data": {
      "text/plain": [
       "86400"
      ]
     },
     "execution_count": 5,
     "metadata": {},
     "output_type": "execute_result"
    }
   ],
   "source": [
    "# calculating seconds per day again\n",
    "seconds_per_day = seconds_per_hour * 24\n",
    "seconds_per_day"
   ]
  },
  {
   "cell_type": "markdown",
   "id": "0084d03d-6f08-4849-9b49-c756f09e3012",
   "metadata": {},
   "source": [
    "### 3.4 Calculate seconds per day again save in 'seconds_per_day'\n",
    "I recalculated the number of seconds in a day and saved the result in the variable 'seconds_per_day'. Once more, the result as 86400."
   ]
  },
  {
   "cell_type": "code",
   "execution_count": 6,
   "id": "831e3529-8ea6-4864-acf5-30635e8e58d0",
   "metadata": {},
   "outputs": [
    {
     "data": {
      "text/plain": [
       "24.0"
      ]
     },
     "execution_count": 6,
     "metadata": {},
     "output_type": "execute_result"
    }
   ],
   "source": [
    "# floating-point division\n",
    "seconds_per_day / seconds_per_hour"
   ]
  },
  {
   "cell_type": "markdown",
   "id": "a20bb281-f05b-4fcb-aa93-f9dc4238a798",
   "metadata": {},
   "source": [
    "### 3.5 Divide seconds_per_day by seconds_per_hour using floating-point division\n",
    "By dividing seconds_per_day by seconds_per_hour using floating-point division, we got the result of 24.0"
   ]
  },
  {
   "cell_type": "code",
   "execution_count": 8,
   "id": "613fa877-f66b-4c6b-8000-e969d1c6e656",
   "metadata": {},
   "outputs": [
    {
     "data": {
      "text/plain": [
       "24"
      ]
     },
     "execution_count": 8,
     "metadata": {},
     "output_type": "execute_result"
    }
   ],
   "source": [
    "# interger division\n",
    "seconds_per_day // seconds_per_hour"
   ]
  },
  {
   "cell_type": "markdown",
   "id": "dba292c8-17a4-4f69-90be-3a14952264cd",
   "metadata": {},
   "source": [
    "### 3.6 Divide seconds_per_day by seconds_per_hour using interger division\n",
    "By dividing seconds_per_day by seconds_per_hour, we got 24. This is the same answer that was received by using floating-point division aside from the .0."
   ]
  }
 ],
 "metadata": {
  "kernelspec": {
   "display_name": "Python 3 (ipykernel)",
   "language": "python",
   "name": "python3"
  },
  "language_info": {
   "codemirror_mode": {
    "name": "ipython",
    "version": 3
   },
   "file_extension": ".py",
   "mimetype": "text/x-python",
   "name": "python",
   "nbconvert_exporter": "python",
   "pygments_lexer": "ipython3",
   "version": "3.12.7"
  }
 },
 "nbformat": 4,
 "nbformat_minor": 5
}
